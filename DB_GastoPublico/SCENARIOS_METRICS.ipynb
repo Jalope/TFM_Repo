{
 "cells": [
  {
   "cell_type": "code",
   "execution_count": 29,
   "id": "bbfd14f0-df3c-407c-b273-cae971098d02",
   "metadata": {},
   "outputs": [],
   "source": [
    "import pandas as pd\n",
    "from pymongo import MongoClient\n",
    "from collections import defaultdict\n",
    "from urllib.parse import quote_plus\n",
    "import requests"
   ]
  },
  {
   "cell_type": "code",
   "execution_count": 30,
   "id": "4ce23b9a-5145-4009-a139-f97d5be5cfd5",
   "metadata": {},
   "outputs": [],
   "source": [
    "# Configurar conexión\n",
    "usuario = \"jalope\"\n",
    "contrasena = \"admin\"\n",
    "host = \"127.0.0.1\"\n",
    "puerto = \"27250\"\n",
    "\n",
    "uri = f\"mongodb://{quote_plus(usuario)}:{quote_plus(contrasena)}@{host}:{puerto}/?directConnection=true\"\n",
    "client = MongoClient(uri)\n",
    "db = client[\"tfm_db\"]"
   ]
  },
  {
   "cell_type": "code",
   "execution_count": 31,
   "id": "3b3e665c-5944-4849-a67f-3baafc524e2e",
   "metadata": {},
   "outputs": [],
   "source": [
    "df_exp = pd.DataFrame(list(db.EUROSTAT_GOV10A_EXP_GDP_COMPARATIVA.find()))\n",
    "df_flows = pd.DataFrame(list(db.EUROSTAT_SPENDING_FLOWS.find()))"
   ]
  },
  {
   "cell_type": "code",
   "execution_count": 32,
   "id": "9b4889c4-8dcb-4ff2-8d2f-da5117decd86",
   "metadata": {},
   "outputs": [
    {
     "name": "stdout",
     "output_type": "stream",
     "text": [
      "Gasto/Educación base:\n",
      "                        _id  year  education_pct_gdp  pensions_pct_gdp country\n",
      "0  685cfc7c9b9ce874eaa20f6e  1995                4.3               6.6      ES\n",
      "1  685cfc7c9b9ce874eaa20f6f  1996                4.3               6.7      ES\n",
      "2  685cfc7c9b9ce874eaa20f70  1997                4.2               6.6      ES\n",
      "3  685cfc7c9b9ce874eaa20f71  1998                4.1               6.5      ES\n",
      "4  685cfc7c9b9ce874eaa20f72  1999                4.2               6.4      ES\n",
      "\n",
      "Flujos de recaudación:\n",
      "                        _id geo time_period  gf01_general_public_services  \\\n",
      "0  685d23d139e248e523f55877  DE        1995                           7.4   \n",
      "1  685d23d139e248e523f55878  DE        1996                           7.3   \n",
      "2  685d23d139e248e523f55879  DE        1997                           7.3   \n",
      "3  685d23d139e248e523f5587a  DE        1998                           7.2   \n",
      "4  685d23d139e248e523f5587b  DE        1999                           6.9   \n",
      "\n",
      "   gf07_health  gf09_education  gf1002_old_age  d51c1  d51c2  d51c3  d51d  \\\n",
      "0          6.1             4.1             0.0    0.0    0.0    0.0   0.0   \n",
      "1          6.2             4.2             0.0    0.0    0.0    0.0   0.0   \n",
      "2          6.1             4.2             0.0    0.0    0.0    0.0   0.0   \n",
      "3          6.1             4.1             0.0    0.0    0.0    0.0   0.0   \n",
      "4          6.1             4.1             0.0    0.0    0.0    0.0   0.0   \n",
      "\n",
      "   d51e  d59  d61  d91  inclusion_index  urban_rate  \n",
      "0   0.0  0.0  0.0  0.0              NaN         NaN  \n",
      "1   0.0  0.0  0.0  0.0              NaN         NaN  \n",
      "2   0.0  0.0  0.0  0.0              NaN         NaN  \n",
      "3   0.0  0.0  0.0  0.0              NaN         NaN  \n",
      "4   0.0  0.0  0.0  0.0              NaN         NaN  \n"
     ]
    }
   ],
   "source": [
    "# 4) Vista previa para confirmar\n",
    "print(\"Gasto/Educación base:\")\n",
    "print(df_exp.head())\n",
    "print(\"\\nFlujos de recaudación:\")\n",
    "print(df_flows.head())"
   ]
  },
  {
   "cell_type": "code",
   "execution_count": 33,
   "id": "d95d604a-0a02-4374-9d18-d33d128ae3ca",
   "metadata": {},
   "outputs": [],
   "source": [
    "df_exp_base = (\n",
    "    df_exp\n",
    "      .rename(columns={\n",
    "         'geo':                'country',\n",
    "         'time_period':        'year',\n",
    "         'education_pct_gdp':  'education_pct_gdp',\n",
    "         'pensions_pct_gdp':   'pensions_pct_gdp'\n",
    "      })\n",
    "      [['country','year','education_pct_gdp','pensions_pct_gdp']]\n",
    ")\n",
    "df_exp_base['year'] = df_exp_base['year'].astype(int)"
   ]
  },
  {
   "cell_type": "code",
   "execution_count": 34,
   "id": "aeaaf7eb-917b-4d1f-9b54-694b95301eb6",
   "metadata": {},
   "outputs": [],
   "source": [
    "tax_cols = ['d51c1','d51c2','d51c3','d51d','d51e','d59','d61','d91']"
   ]
  },
  {
   "cell_type": "code",
   "execution_count": 35,
   "id": "4a048a72-ba67-4635-9f97-b6e563331b6a",
   "metadata": {},
   "outputs": [
    {
     "name": "stdout",
     "output_type": "stream",
     "text": [
      "Columnas en spending_flows: ['_id', 'geo', 'time_period', 'gf01_general_public_services', 'gf07_health', 'gf09_education', 'gf1002_old_age', 'd51c1', 'd51c2', 'd51c3', 'd51d', 'd51e', 'd59', 'd61', 'd91', 'inclusion_index', 'urban_rate']\n",
      "Primer documento: {'_id': ObjectId('685d23d139e248e523f55877'), 'geo': 'DE', 'time_period': '1995', 'gf01_general_public_services': 7.4, 'gf07_health': 6.1, 'gf09_education': 4.1, 'gf1002_old_age': 0.0, 'd51c1': 0.0, 'd51c2': 0.0, 'd51c3': 0.0, 'd51d': 0.0, 'd51e': 0.0, 'd59': 0.0, 'd61': 0.0, 'd91': 0.0, 'inclusion_index': nan, 'urban_rate': nan}\n"
     ]
    }
   ],
   "source": [
    "print(\"Columnas en spending_flows:\", df_flows.columns.tolist())\n",
    "print(\"Primer documento:\", df_flows.head(1).to_dict(orient='records')[0])"
   ]
  },
  {
   "cell_type": "code",
   "execution_count": 36,
   "id": "2839e076-f5ae-4e02-8daa-753a8dc18464",
   "metadata": {},
   "outputs": [],
   "source": [
    "df_flows_base = (\n",
    "    df_flows\n",
    "      .rename(columns={\n",
    "         'geo':         'country',\n",
    "         'time_period': 'year'\n",
    "      })\n",
    "      .assign(\n",
    "         year = lambda d: d['year'].astype(int),\n",
    "         revenue_pct_gdp = lambda d: d[tax_cols].sum(axis=1)\n",
    "      )\n",
    "      [['country','year','revenue_pct_gdp','inclusion_index','urban_rate']]\n",
    ")"
   ]
  },
  {
   "cell_type": "code",
   "execution_count": 37,
   "id": "b3308190-4368-41a5-bdf3-690f2a3acef9",
   "metadata": {},
   "outputs": [
    {
     "name": "stdout",
     "output_type": "stream",
     "text": [
      "=== Gasto base ===\n",
      "  country  year  education_pct_gdp  pensions_pct_gdp\n",
      "0      ES  1995                4.3               6.6\n",
      "1      ES  1996                4.3               6.7\n",
      "2      ES  1997                4.2               6.6\n",
      "3      ES  1998                4.1               6.5\n",
      "4      ES  1999                4.2               6.4\n",
      "\n",
      "=== Recaudación + Modernización ===\n",
      "  country  year  revenue_pct_gdp  inclusion_index  urban_rate\n",
      "0      DE  1995              0.0              NaN         NaN\n",
      "1      DE  1996              0.0              NaN         NaN\n",
      "2      DE  1997              0.0              NaN         NaN\n",
      "3      DE  1998              0.0              NaN         NaN\n",
      "4      DE  1999              0.0              NaN         NaN\n"
     ]
    }
   ],
   "source": [
    "# 3) Mostrar previews\n",
    "print(\"=== Gasto base ===\")\n",
    "print(df_exp_base.head())\n",
    "print(\"\\n=== Recaudación + Modernización ===\")\n",
    "print(df_flows_base.head())"
   ]
  },
  {
   "cell_type": "code",
   "execution_count": 38,
   "id": "76e7f2fd-a648-43c1-be52-317fca86429b",
   "metadata": {},
   "outputs": [
    {
     "data": {
      "text/html": [
       "<div>\n",
       "<style scoped>\n",
       "    .dataframe tbody tr th:only-of-type {\n",
       "        vertical-align: middle;\n",
       "    }\n",
       "\n",
       "    .dataframe tbody tr th {\n",
       "        vertical-align: top;\n",
       "    }\n",
       "\n",
       "    .dataframe thead th {\n",
       "        text-align: right;\n",
       "    }\n",
       "</style>\n",
       "<table border=\"1\" class=\"dataframe\">\n",
       "  <thead>\n",
       "    <tr style=\"text-align: right;\">\n",
       "      <th></th>\n",
       "      <th>country</th>\n",
       "      <th>year</th>\n",
       "      <th>revenue_pct_gdp</th>\n",
       "      <th>inclusion_index</th>\n",
       "      <th>urban_rate</th>\n",
       "    </tr>\n",
       "  </thead>\n",
       "  <tbody>\n",
       "    <tr>\n",
       "      <th>76</th>\n",
       "      <td>EU27_2020</td>\n",
       "      <td>2013</td>\n",
       "      <td>0.0</td>\n",
       "      <td>NaN</td>\n",
       "      <td>NaN</td>\n",
       "    </tr>\n",
       "  </tbody>\n",
       "</table>\n",
       "</div>"
      ],
      "text/plain": [
       "      country  year  revenue_pct_gdp  inclusion_index  urban_rate\n",
       "76  EU27_2020  2013              0.0              NaN         NaN"
      ]
     },
     "execution_count": 38,
     "metadata": {},
     "output_type": "execute_result"
    }
   ],
   "source": [
    "df_flows_base.sample()"
   ]
  },
  {
   "cell_type": "code",
   "execution_count": 39,
   "id": "a8729537-45a7-45d3-9afe-3d9898d89474",
   "metadata": {},
   "outputs": [
    {
     "data": {
      "text/plain": [
       "0     1995\n",
       "1     1996\n",
       "2     1997\n",
       "3     1998\n",
       "4     1999\n",
       "      ... \n",
       "82    2019\n",
       "83    2020\n",
       "84    2021\n",
       "85    2022\n",
       "86    2023\n",
       "Name: year, Length: 87, dtype: int64"
      ]
     },
     "execution_count": 39,
     "metadata": {},
     "output_type": "execute_result"
    }
   ],
   "source": [
    "df_exp_base['year']"
   ]
  },
  {
   "cell_type": "code",
   "execution_count": 40,
   "id": "4b0a27df-d619-4615-88fc-89d7f4ccb1e3",
   "metadata": {},
   "outputs": [
    {
     "name": "stdout",
     "output_type": "stream",
     "text": [
      "Columnas de df_exp_base: ['country', 'year', 'education_pct_gdp', 'pensions_pct_gdp']\n",
      "Columnas de df_flow_base: ['country', 'year', 'revenue_pct_gdp', 'inclusion_index', 'urban_rate']\n"
     ]
    }
   ],
   "source": [
    "print(\"Columnas de df_exp_base:\", df_exp_base.columns.tolist())\n",
    "print(\"Columnas de df_flow_base:\", df_flows_base.columns.tolist())"
   ]
  },
  {
   "cell_type": "code",
   "execution_count": 41,
   "id": "55f0cec6-c581-4462-a7b2-6e48431184f4",
   "metadata": {},
   "outputs": [],
   "source": [
    "df_exp_base['year'] = df_exp_base['year'].astype(int)\n",
    "df_flows_base['year'] = df_flows_base['year'].astype(int)"
   ]
  },
  {
   "cell_type": "code",
   "execution_count": 42,
   "id": "526e747e-9024-4d6b-8459-2709aa65a71a",
   "metadata": {},
   "outputs": [
    {
     "name": "stdout",
     "output_type": "stream",
     "text": [
      "  country  year  education_pct_gdp  pensions_pct_gdp  revenue_pct_gdp  \\\n",
      "0      ES  1995                4.3               6.6              0.0   \n",
      "1      ES  1996                4.3               6.7              0.0   \n",
      "2      ES  1997                4.2               6.6              0.0   \n",
      "3      ES  1998                4.1               6.5              0.0   \n",
      "4      ES  1999                4.2               6.4              0.0   \n",
      "5      ES  2000                4.1               6.3              0.0   \n",
      "6      ES  2001                4.0               6.1              0.0   \n",
      "7      ES  2002                4.0               6.2              0.0   \n",
      "8      ES  2003                4.0               6.1              0.0   \n",
      "9      ES  2004                4.1               6.0              0.0   \n",
      "\n",
      "   inclusion_index  urban_rate  delta_edu  \n",
      "0              NaN         NaN        NaN  \n",
      "1              NaN         NaN        0.0  \n",
      "2              NaN         NaN       -0.1  \n",
      "3              NaN         NaN       -0.1  \n",
      "4              NaN         NaN        0.1  \n",
      "5              NaN         NaN       -0.1  \n",
      "6              NaN         NaN       -0.1  \n",
      "7              NaN         NaN        0.0  \n",
      "8              NaN         NaN        0.0  \n",
      "9              NaN         NaN        0.1  \n"
     ]
    }
   ],
   "source": [
    "# 2) Mergear ambos DataFrames\n",
    "df_mod = pd.merge(df_exp_base, df_flows_base, on=['country','year'], how='inner')\n",
    "\n",
    "# 3) Calcular variación anual en educación\n",
    "df_mod = df_mod.sort_values(['country','year'])\n",
    "df_mod['delta_edu'] = df_mod.groupby('country')['education_pct_gdp'].diff()\n",
    "\n",
    "# 4) Mostrar un preview\n",
    "print(df_mod.head(10))"
   ]
  },
  {
   "cell_type": "code",
   "execution_count": 43,
   "id": "a9a1658d-ecd9-4068-9b2c-b13dbb4718ab",
   "metadata": {},
   "outputs": [
    {
     "name": "stdout",
     "output_type": "stream",
     "text": [
      "Registros en la colección:  58\n",
      "Número de filas de df_raw:  58\n"
     ]
    }
   ],
   "source": [
    "coll = db['MODERNIZATION_METRICS']\n",
    "coll.drop()\n",
    "coll.insert_many(df_mod.to_dict('records'))\n",
    "print(\"Registros en la colección: \", coll.count_documents({}))\n",
    "print(\"Número de filas de df_raw: \", len(df_mod))"
   ]
  },
  {
   "cell_type": "code",
   "execution_count": 44,
   "id": "796cd535-2fa1-4326-b2d2-902e62aad8bb",
   "metadata": {},
   "outputs": [
    {
     "name": "stdout",
     "output_type": "stream",
     "text": [
      "Primeros escenarios generados:\n",
      "  country           scenario  year  pensiones_pct_gdp  education_pct_gdp  \\\n",
      "0      ES  edad65_base0_edu0  1995                6.6                4.3   \n",
      "1      ES  edad65_base0_edu0  1996                6.7                4.3   \n",
      "2      ES  edad65_base0_edu0  1997                6.6                4.2   \n",
      "3      ES  edad65_base0_edu0  1998                6.5                4.1   \n",
      "4      ES  edad65_base0_edu0  1999                6.4                4.2   \n",
      "5      ES  edad65_base0_edu0  2000                6.3                4.1   \n",
      "6      ES  edad65_base0_edu0  2001                6.1                4.0   \n",
      "7      ES  edad65_base0_edu0  2002                6.2                4.0   \n",
      "8      ES  edad65_base0_edu0  2003                6.1                4.0   \n",
      "9      ES  edad65_base0_edu0  2004                6.0                4.1   \n",
      "\n",
      "   revenue_pct_gdp  deficit_pct_gdp  \n",
      "0              0.0             10.9  \n",
      "1              0.0             11.0  \n",
      "2              0.0             10.8  \n",
      "3              0.0             10.6  \n",
      "4              0.0             10.6  \n",
      "5              0.0             10.4  \n",
      "6              0.0             10.1  \n",
      "7              0.0             10.2  \n",
      "8              0.0             10.1  \n",
      "9              0.0             10.1  \n"
     ]
    }
   ],
   "source": [
    "# 3) Definir rangos y elasticidad\n",
    "age_list   = [65, 66, 67]\n",
    "beta_list  = [0.00, 0.05, 0.10]  # incremento relativo en educación\n",
    "gamma_list = [0.00, 0.05, 0.10]  # ampliación de la base tributaria\n",
    "alpha      = 0.005              # elasticidad: –0.5% gasto pensiones por año extra\n",
    "\n",
    "# 4) Generar escenarios\n",
    "scenarios = []\n",
    "for A in age_list:\n",
    "    for γ in gamma_list:\n",
    "        for β in beta_list:\n",
    "            scenario_name = f\"edad{A}_base{int(γ*100)}_edu{int(β*100)}\"\n",
    "            for _, row in df_mod.iterrows():\n",
    "                pens = row['pensions_pct_gdp'] * (1 - alpha * (A - 65))\n",
    "                edu  = row['education_pct_gdp'] * (1 + β)\n",
    "                rev  = row['revenue_pct_gdp']    * (1 + γ)\n",
    "                scenarios.append({\n",
    "                    \"country\": row['country'],\n",
    "                    \"scenario\": scenario_name,\n",
    "                    \"year\": row['year'],\n",
    "                    \"pensiones_pct_gdp\": pens,\n",
    "                    \"education_pct_gdp\": edu,\n",
    "                    \"revenue_pct_gdp\": rev,\n",
    "                    \"deficit_pct_gdp\": pens + edu - rev\n",
    "                })\n",
    "\n",
    "df_scen = pd.DataFrame(scenarios)\n",
    "\n",
    "# Vista previa\n",
    "print(\"Primeros escenarios generados:\")\n",
    "print(df_scen.head(10))"
   ]
  },
  {
   "cell_type": "code",
   "execution_count": null,
   "id": "e37b7752-29d1-43ca-91f6-be252eff5155",
   "metadata": {},
   "outputs": [],
   "source": [
    "SCENARIOS_METRICS"
   ]
  },
  {
   "cell_type": "code",
   "execution_count": 45,
   "id": "deaa0e62-f621-43bd-bb39-d6d57ddef433",
   "metadata": {},
   "outputs": [
    {
     "name": "stdout",
     "output_type": "stream",
     "text": [
      "Registros en la colección:  1566\n",
      "Número de filas de df_scene:  1566\n"
     ]
    }
   ],
   "source": [
    "coll = db['SCENARIOS_METRICS']\n",
    "coll.drop()\n",
    "coll.insert_many(df_scen.to_dict('records'))\n",
    "print(\"Registros en la colección: \", coll.count_documents({}))\n",
    "print(\"Número de filas de df_scene: \", len(df_scen))"
   ]
  }
 ],
 "metadata": {
  "kernelspec": {
   "display_name": "Python 3 (ipykernel)",
   "language": "python",
   "name": "python3"
  },
  "language_info": {
   "codemirror_mode": {
    "name": "ipython",
    "version": 3
   },
   "file_extension": ".py",
   "mimetype": "text/x-python",
   "name": "python",
   "nbconvert_exporter": "python",
   "pygments_lexer": "ipython3",
   "version": "3.10.17"
  }
 },
 "nbformat": 4,
 "nbformat_minor": 5
}
