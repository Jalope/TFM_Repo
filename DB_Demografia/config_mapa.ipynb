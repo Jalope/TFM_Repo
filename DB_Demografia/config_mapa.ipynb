{
 "cells": [
  {
   "cell_type": "code",
   "execution_count": 1,
   "id": "64e106c5-f8d8-43e7-a6a5-5454b13bde1a",
   "metadata": {},
   "outputs": [],
   "source": [
    "import json\n",
    "import pandas as pd\n",
    "import os"
   ]
  },
  {
   "cell_type": "code",
   "execution_count": 4,
   "id": "4c6126e5-c733-419e-9ca1-a0789fc7da49",
   "metadata": {},
   "outputs": [],
   "source": [
    "def update_provincia_ids(json_path, csv_path, output_path):\n",
    "    \"\"\"\n",
    "    Carga el GeoJSON de provincias y el CSV de códigos de provincia,\n",
    "    y actualiza cada feature['properties']['id'] e 'id' con el código INE.\n",
    "    \"\"\"\n",
    "    # 1) Leer GeoJSON\n",
    "    with open(json_path, 'r', encoding='utf-8') as f:\n",
    "        geo = json.load(f)\n",
    "\n",
    "    # 2) Leer CSV de códigos\n",
    "    df_codes = pd.read_csv(csv_path, dtype=str, delimiter=\";\")\n",
    "    mapping = dict(zip(df_codes['name'], df_codes['cod_prov']))\n",
    "\n",
    "    # 3) Actualizar cada feature\n",
    "    missing = []\n",
    "    for feat in geo.get('features', []):\n",
    "        prov_name = feat['properties'].get('name')\n",
    "        cod = mapping.get(prov_name)\n",
    "        if cod:\n",
    "            feat['properties']['id'] = cod\n",
    "            feat['id'] = cod\n",
    "        else:\n",
    "            missing.append(prov_name)\n",
    "\n",
    "    if missing:\n",
    "        print(f\"Advertencia: No se encontró código para: {sorted(set(missing))}\")\n",
    "\n",
    "    # 4) Guardar nuevo GeoJSON\n",
    "    os.makedirs(os.path.dirname(output_path), exist_ok=True)\n",
    "    with open(output_path, 'w', encoding='utf-8') as f:\n",
    "        json.dump(geo, f, ensure_ascii=False, indent=2)"
   ]
  },
  {
   "cell_type": "code",
   "execution_count": 5,
   "id": "760d3744-99b7-47d7-9f97-9776d617361b",
   "metadata": {},
   "outputs": [
    {
     "name": "stdout",
     "output_type": "stream",
     "text": [
      "GeoJSON actualizado guardado en: ..data/mapas/esp_prov_codigos.json\n"
     ]
    }
   ],
   "source": [
    "if __name__ == \"__main__\":\n",
    "    json_input  = \"../data/mapas/esp_prov.json\"\n",
    "    csv_input   = \"../data/codigos_ine_prov_ccaa/codigos_prov_mapa.csv\"\n",
    "    json_output = \"..data/mapas/esp_prov_codigos.json\"\n",
    "    update_provincia_ids(json_input, csv_input, json_output)\n",
    "    print(f\"GeoJSON actualizado guardado en: {json_output}\")"
   ]
  },
  {
   "cell_type": "code",
   "execution_count": null,
   "id": "7e5cd0fa-2de0-45cc-b0e0-cdf1a2cea023",
   "metadata": {},
   "outputs": [],
   "source": []
  }
 ],
 "metadata": {
  "kernelspec": {
   "display_name": "Python 3 (ipykernel)",
   "language": "python",
   "name": "python3"
  },
  "language_info": {
   "codemirror_mode": {
    "name": "ipython",
    "version": 3
   },
   "file_extension": ".py",
   "mimetype": "text/x-python",
   "name": "python",
   "nbconvert_exporter": "python",
   "pygments_lexer": "ipython3",
   "version": "3.10.17"
  }
 },
 "nbformat": 4,
 "nbformat_minor": 5
}
