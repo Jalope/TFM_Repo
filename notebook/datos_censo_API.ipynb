{
 "cells": [
  {
   "cell_type": "code",
   "execution_count": 21,
   "id": "bb3b85e2-f8bc-4e5f-9443-2b324191b8f4",
   "metadata": {},
   "outputs": [],
   "source": [
    "import pandas as pd\n",
    "from pymongo import MongoClient\n",
    "from collections import defaultdict\n",
    "from urllib.parse import quote_plus\n",
    "import requests"
   ]
  },
  {
   "cell_type": "code",
   "execution_count": 22,
   "id": "119f1673-f7ab-4252-9ce5-a9dd4ff54748",
   "metadata": {},
   "outputs": [],
   "source": [
    "url_2023 = f\"https://servicios.ine.es/wstempus/js/ES/DATOS_TABLA/59777\"\n",
    "url_2019 = f\"https://servicios.ine.es/wstempus/js/ES/DATOS_TABLA/33525\""
   ]
  },
  {
   "cell_type": "code",
   "execution_count": 23,
   "id": "32587a50-ff15-4404-8a7d-35e1614c92cc",
   "metadata": {},
   "outputs": [],
   "source": [
    "resp_2023 = requests.get(url_2023, params=None)\n",
    "resp_2023.raise_for_status()\n",
    "data_2023 = resp_2023.json()\n",
    "\n",
    "resp_2019 = requests.get(url_2019, params=None)\n",
    "resp_2019.raise_for_status()\n",
    "data_2019 = resp_2019.json()"
   ]
  },
  {
   "cell_type": "code",
   "execution_count": 24,
   "id": "95facad4-1f22-435a-bcc0-de44d523253d",
   "metadata": {},
   "outputs": [
    {
     "name": "stdout",
     "output_type": "stream",
     "text": [
      "Valores únicos de rango de edad en 2019 y 2023:\n",
      "- '18 y 19'\n",
      "- '20 a 24'\n",
      "- '25 a 29'\n",
      "- '30 a 34'\n",
      "- '35 a 39'\n",
      "- '40 a 44'\n",
      "- '45 a 49'\n",
      "- '50 a 54'\n",
      "- '55 a 59'\n",
      "- '60 a 64'\n",
      "- '65 a 69'\n",
      "- '70 a 74'\n",
      "- '75 a 79'\n",
      "- '80 a 84'\n",
      "- '85 y más'\n",
      "- 'TOTAL'\n",
      "- 'Total'\n"
     ]
    }
   ],
   "source": [
    "age_labels_2019 = [\n",
    "    item['Nombre'].split(',')[0].strip()\n",
    "    for item in data_2019\n",
    "]\n",
    "age_labels_2023 = [\n",
    "    item['Nombre'].split(',')[0].strip()\n",
    "    for item in data_2023\n",
    "]\n",
    "\n",
    "# 2. Hacer el conjunto único\n",
    "unique_ages = sorted(set(age_labels_2019 + age_labels_2023))\n",
    "\n",
    "# 3. Mostrarlos\n",
    "print(\"Valores únicos de rango de edad en 2019 y 2023:\")\n",
    "for label in unique_ages:\n",
    "    print(\"-\", repr(label))"
   ]
  },
  {
   "cell_type": "code",
   "execution_count": 51,
   "id": "ead20eb6-eccd-4f38-9f11-e2cbbd98fcb4",
   "metadata": {},
   "outputs": [],
   "source": [
    "# Mapa de sexo\n",
    "sex_map = {'Mujeres':'F', 'Hombres':'M', 'Total':'T'}\n",
    "\n",
    "def process_censo_json(censo_json: list[dict], year: int) -> pd.DataFrame:\n",
    "    rows = []\n",
    "    for item in censo_json:\n",
    "        label = item['Nombre']                   # e.g. \"18 y 19, CER, Total\"\n",
    "        valor = item['Data'][0]['Valor']\n",
    "        parts = [x.strip() for x in label.split(',')]\n",
    "        if len(parts) != 3:\n",
    "            continue\n",
    "        age_range, censo_type, sexo_texto = parts\n",
    "\n",
    "        # Sólo CER\n",
    "        if censo_type.upper() != 'CER':\n",
    "            continue\n",
    "\n",
    "        # Mapear sexo\n",
    "        sexo_key = sexo_texto.capitalize()\n",
    "        if sexo_key not in sex_map:\n",
    "            continue\n",
    "\n",
    "        rows.append({\n",
    "            'year':      year,\n",
    "            'age_range':       age_range,                 # mantenemos el rango\n",
    "            'sex':       sex_map[sexo_key],\n",
    "            'census':    valor,\n",
    "        })\n",
    "\n",
    "    df = pd.DataFrame(rows)\n",
    "    # Convertimos la columna age a categoría\n",
    "    df['age_range'] = df['age_range'].str.title()\n",
    "    df['age_range'] = df['age_range'].astype('category')\n",
    "    return df"
   ]
  },
  {
   "cell_type": "code",
   "execution_count": 52,
   "id": "d86eea1b-ac22-4257-9255-2681f139c18e",
   "metadata": {},
   "outputs": [],
   "source": [
    "# Procesar 2019 y 2023 sin expandir\n",
    "df19 = process_censo_json(data_2019, 2019)\n",
    "df23 = process_censo_json(data_2023, 2023)"
   ]
  },
  {
   "cell_type": "code",
   "execution_count": 53,
   "id": "28eb49dc-4e8b-48e9-831d-2065ff511200",
   "metadata": {},
   "outputs": [
    {
     "data": {
      "text/plain": [
       "['Total', '18 Y 19', '20 A 24', '25 A 29', '30 A 34', ..., '65 A 69', '70 A 74', '75 A 79', '80 A 84', '85 Y Más']\n",
       "Length: 16\n",
       "Categories (16, object): ['18 Y 19', '20 A 24', '25 A 29', '30 A 34', ..., '75 A 79', '80 A 84', '85 Y Más', 'Total']"
      ]
     },
     "execution_count": 53,
     "metadata": {},
     "output_type": "execute_result"
    }
   ],
   "source": [
    "df19['age_range'].unique()"
   ]
  },
  {
   "cell_type": "code",
   "execution_count": 54,
   "id": "da8b42ab-da19-4b0d-9f52-a2ad94ab6f23",
   "metadata": {},
   "outputs": [
    {
     "data": {
      "text/plain": [
       "['Total', '18 Y 19', '20 A 24', '25 A 29', '30 A 34', ..., '65 A 69', '70 A 74', '75 A 79', '80 A 84', '85 Y Más']\n",
       "Length: 16\n",
       "Categories (16, object): ['18 Y 19', '20 A 24', '25 A 29', '30 A 34', ..., '75 A 79', '80 A 84', '85 Y Más', 'Total']"
      ]
     },
     "execution_count": 54,
     "metadata": {},
     "output_type": "execute_result"
    }
   ],
   "source": [
    "df19['age_range'].unique()"
   ]
  },
  {
   "cell_type": "code",
   "execution_count": 55,
   "id": "808fb526-bf1d-4611-9604-ea7d97ae586d",
   "metadata": {},
   "outputs": [
    {
     "name": "stdout",
     "output_type": "stream",
     "text": [
      "year            int64\n",
      "age_range    category\n",
      "sex            object\n",
      "census        float64\n",
      "dtype: object\n",
      "Index(['18 Y 19', '20 A 24', '25 A 29', '30 A 34', '35 A 39', '40 A 44',\n",
      "       '45 A 49', '50 A 54', '55 A 59', '60 A 64', '65 A 69', '70 A 74',\n",
      "       '75 A 79', '80 A 84', '85 Y Más', 'Total'],\n",
      "      dtype='object')\n"
     ]
    }
   ],
   "source": [
    "df_censo = pd.concat([df19, df23], ignore_index=True)\n",
    "\n",
    "# Verificación\n",
    "print(df_censo.dtypes)\n",
    "print(df_censo['age_range'].cat.categories)"
   ]
  },
  {
   "cell_type": "code",
   "execution_count": 56,
   "id": "2238e475-acea-429f-9cfa-656e67eda193",
   "metadata": {},
   "outputs": [
    {
     "data": {
      "text/html": [
       "<div>\n",
       "<style scoped>\n",
       "    .dataframe tbody tr th:only-of-type {\n",
       "        vertical-align: middle;\n",
       "    }\n",
       "\n",
       "    .dataframe tbody tr th {\n",
       "        vertical-align: top;\n",
       "    }\n",
       "\n",
       "    .dataframe thead th {\n",
       "        text-align: right;\n",
       "    }\n",
       "</style>\n",
       "<table border=\"1\" class=\"dataframe\">\n",
       "  <thead>\n",
       "    <tr style=\"text-align: right;\">\n",
       "      <th></th>\n",
       "      <th>year</th>\n",
       "      <th>age_range</th>\n",
       "      <th>sex</th>\n",
       "      <th>census</th>\n",
       "    </tr>\n",
       "  </thead>\n",
       "  <tbody>\n",
       "    <tr>\n",
       "      <th>0</th>\n",
       "      <td>2019</td>\n",
       "      <td>Total</td>\n",
       "      <td>F</td>\n",
       "      <td>17996382.0</td>\n",
       "    </tr>\n",
       "    <tr>\n",
       "      <th>1</th>\n",
       "      <td>2019</td>\n",
       "      <td>Total</td>\n",
       "      <td>M</td>\n",
       "      <td>16874100.0</td>\n",
       "    </tr>\n",
       "    <tr>\n",
       "      <th>2</th>\n",
       "      <td>2019</td>\n",
       "      <td>Total</td>\n",
       "      <td>T</td>\n",
       "      <td>34870482.0</td>\n",
       "    </tr>\n",
       "    <tr>\n",
       "      <th>3</th>\n",
       "      <td>2019</td>\n",
       "      <td>18 Y 19</td>\n",
       "      <td>F</td>\n",
       "      <td>406085.0</td>\n",
       "    </tr>\n",
       "    <tr>\n",
       "      <th>4</th>\n",
       "      <td>2019</td>\n",
       "      <td>18 Y 19</td>\n",
       "      <td>M</td>\n",
       "      <td>429591.0</td>\n",
       "    </tr>\n",
       "  </tbody>\n",
       "</table>\n",
       "</div>"
      ],
      "text/plain": [
       "   year age_range sex      census\n",
       "0  2019     Total   F  17996382.0\n",
       "1  2019     Total   M  16874100.0\n",
       "2  2019     Total   T  34870482.0\n",
       "3  2019   18 Y 19   F    406085.0\n",
       "4  2019   18 Y 19   M    429591.0"
      ]
     },
     "execution_count": 56,
     "metadata": {},
     "output_type": "execute_result"
    }
   ],
   "source": [
    "df_censo.head()"
   ]
  },
  {
   "cell_type": "code",
   "execution_count": 57,
   "id": "8e73384b-de89-4b8b-9ee8-a76a17cb2d0d",
   "metadata": {},
   "outputs": [],
   "source": [
    "# Configurar conexión\n",
    "usuario = \"jalope\"\n",
    "contrasena = \"admin\"\n",
    "host = \"127.0.0.1\"\n",
    "puerto = \"27250\"\n",
    "\n",
    "uri = f\"mongodb://{quote_plus(usuario)}:{quote_plus(contrasena)}@{host}:{puerto}/?directConnection=true\"\n",
    "client = MongoClient(uri)\n",
    "db = client[\"tfm_db\"]"
   ]
  },
  {
   "cell_type": "code",
   "execution_count": 58,
   "id": "ad61357d-c46a-4e76-bf46-98f9fb8aa3df",
   "metadata": {},
   "outputs": [
    {
     "name": "stdout",
     "output_type": "stream",
     "text": [
      "Registros en la colección:  96\n",
      "Número de filas de df_raw:  96\n"
     ]
    }
   ],
   "source": [
    "coll = db['INE_59777_33525_CENSO_RAW']\n",
    "coll.drop()\n",
    "coll.insert_many(df_censo.to_dict('records'))\n",
    "print(\"Registros en la colección: \", coll.count_documents({}))\n",
    "print(\"Número de filas de df_raw: \", len(df_censo))"
   ]
  }
 ],
 "metadata": {
  "kernelspec": {
   "display_name": "Python 3 (ipykernel)",
   "language": "python",
   "name": "python3"
  },
  "language_info": {
   "codemirror_mode": {
    "name": "ipython",
    "version": 3
   },
   "file_extension": ".py",
   "mimetype": "text/x-python",
   "name": "python",
   "nbconvert_exporter": "python",
   "pygments_lexer": "ipython3",
   "version": "3.10.17"
  }
 },
 "nbformat": 4,
 "nbformat_minor": 5
}
