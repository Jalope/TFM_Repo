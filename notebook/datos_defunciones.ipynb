{
 "cells": [
  {
   "cell_type": "code",
   "execution_count": 3,
   "id": "4410a58a-f093-4c55-b5e5-306ef5532c5e",
   "metadata": {},
   "outputs": [],
   "source": [
    "import pandas as pd\n",
    "import os\n",
    "from pymongo import MongoClient\n",
    "from collections import defaultdict\n",
    "from urllib.parse import quote_plus"
   ]
  },
  {
   "cell_type": "code",
   "execution_count": 4,
   "id": "5286528d-15f9-4180-a91e-1202f71c5541",
   "metadata": {},
   "outputs": [],
   "source": [
    "df_raw = pd.read_csv('../data/6548.csv', sep=';', thousands='.', decimal=',')"
   ]
  },
  {
   "cell_type": "code",
   "execution_count": 5,
   "id": "54a171fb-23be-4707-add9-c798210f0871",
   "metadata": {},
   "outputs": [
    {
     "data": {
      "text/html": [
       "<div>\n",
       "<style scoped>\n",
       "    .dataframe tbody tr th:only-of-type {\n",
       "        vertical-align: middle;\n",
       "    }\n",
       "\n",
       "    .dataframe tbody tr th {\n",
       "        vertical-align: top;\n",
       "    }\n",
       "\n",
       "    .dataframe thead th {\n",
       "        text-align: right;\n",
       "    }\n",
       "</style>\n",
       "<table border=\"1\" class=\"dataframe\">\n",
       "  <thead>\n",
       "    <tr style=\"text-align: right;\">\n",
       "      <th></th>\n",
       "      <th>Comunidades y Ciudades Autónomas</th>\n",
       "      <th>Sexo</th>\n",
       "      <th>Edad</th>\n",
       "      <th>Periodo</th>\n",
       "      <th>Total</th>\n",
       "    </tr>\n",
       "  </thead>\n",
       "  <tbody>\n",
       "    <tr>\n",
       "      <th>0</th>\n",
       "      <td>Total</td>\n",
       "      <td>Total</td>\n",
       "      <td>Menores de un año</td>\n",
       "      <td>2023</td>\n",
       "      <td>848.0</td>\n",
       "    </tr>\n",
       "    <tr>\n",
       "      <th>1</th>\n",
       "      <td>Total</td>\n",
       "      <td>Total</td>\n",
       "      <td>Menores de un año</td>\n",
       "      <td>2022</td>\n",
       "      <td>869.0</td>\n",
       "    </tr>\n",
       "    <tr>\n",
       "      <th>2</th>\n",
       "      <td>Total</td>\n",
       "      <td>Total</td>\n",
       "      <td>Menores de un año</td>\n",
       "      <td>2021</td>\n",
       "      <td>861.0</td>\n",
       "    </tr>\n",
       "    <tr>\n",
       "      <th>3</th>\n",
       "      <td>Total</td>\n",
       "      <td>Total</td>\n",
       "      <td>Menores de un año</td>\n",
       "      <td>2020</td>\n",
       "      <td>890.0</td>\n",
       "    </tr>\n",
       "    <tr>\n",
       "      <th>4</th>\n",
       "      <td>Total</td>\n",
       "      <td>Total</td>\n",
       "      <td>Menores de un año</td>\n",
       "      <td>2019</td>\n",
       "      <td>977.0</td>\n",
       "    </tr>\n",
       "  </tbody>\n",
       "</table>\n",
       "</div>"
      ],
      "text/plain": [
       "  Comunidades y Ciudades Autónomas   Sexo               Edad  Periodo  Total\n",
       "0                            Total  Total  Menores de un año     2023  848.0\n",
       "1                            Total  Total  Menores de un año     2022  869.0\n",
       "2                            Total  Total  Menores de un año     2021  861.0\n",
       "3                            Total  Total  Menores de un año     2020  890.0\n",
       "4                            Total  Total  Menores de un año     2019  977.0"
      ]
     },
     "execution_count": 5,
     "metadata": {},
     "output_type": "execute_result"
    }
   ],
   "source": [
    "df_raw.head()"
   ]
  },
  {
   "cell_type": "code",
   "execution_count": 6,
   "id": "fdb1e4e0-da03-4c16-8961-e6c6f0def48e",
   "metadata": {},
   "outputs": [
    {
     "name": "stdout",
     "output_type": "stream",
     "text": [
      "Comunidades y Ciudades Autónomas     object\n",
      "Sexo                                 object\n",
      "Edad                                 object\n",
      "Periodo                               int64\n",
      "Total                               float64\n",
      "dtype: object\n"
     ]
    }
   ],
   "source": [
    "print(df_raw.dtypes)"
   ]
  },
  {
   "cell_type": "code",
   "execution_count": 7,
   "id": "a3c50232-f068-4071-84a2-3b80c0f13526",
   "metadata": {},
   "outputs": [],
   "source": [
    "age_map = {\n",
    "    'Menores de un año': '0',\n",
    "    '100 y más años': '100'\n",
    "}\n",
    "df_raw['age'] = (\n",
    "    df_raw['Edad']\n",
    "      .replace(age_map)           \n",
    "      .str.extract(r'(\\d+)')      \n",
    "      .astype(int)         \n",
    ")"
   ]
  },
  {
   "cell_type": "code",
   "execution_count": 8,
   "id": "c26387ff-941e-4c22-8ca7-59806de01d44",
   "metadata": {},
   "outputs": [],
   "source": [
    "# 2. Mapear sexo a T/M/F\n",
    "sex_map = {\n",
    "    'Total':   'T',\n",
    "    'Hombres': 'M',\n",
    "    'Mujeres': 'F'\n",
    "}\n",
    "df_raw['sex'] = df_raw['Sexo'].map(sex_map).astype('category')"
   ]
  },
  {
   "cell_type": "code",
   "execution_count": 9,
   "id": "95b2c821-8f6b-42c7-ac14-639aa3465f57",
   "metadata": {},
   "outputs": [],
   "source": [
    "# Procesar la columna de CCAA\n",
    "#    - \"Total\"       -> code=None, name=None\n",
    "#    - \"No residente\" -> descartarla\n",
    "#    - \"<CC> <Nombre>\" -> extraer código de 2 chars y nombre\n",
    "\n",
    "geo = df_raw['Comunidades y Ciudades Autónomas']\n",
    "mask_total = geo == 'Total'\n",
    "mask_nores = geo == 'No residente'\n",
    "\n",
    "# Incluir Total como vacíos\n",
    "df_raw.loc[mask_total, 'code_ine_ccaa'] = None\n",
    "df_raw.loc[mask_total, 'name_ccaa'] = None\n",
    "\n",
    "# Eliminar \"No residente\"\n",
    "df_raw = df_raw[~mask_nores]"
   ]
  },
  {
   "cell_type": "code",
   "execution_count": 10,
   "id": "58a3cead-d534-4f99-8e53-7445f704d7ef",
   "metadata": {},
   "outputs": [
    {
     "data": {
      "text/html": [
       "<div>\n",
       "<style scoped>\n",
       "    .dataframe tbody tr th:only-of-type {\n",
       "        vertical-align: middle;\n",
       "    }\n",
       "\n",
       "    .dataframe tbody tr th {\n",
       "        vertical-align: top;\n",
       "    }\n",
       "\n",
       "    .dataframe thead th {\n",
       "        text-align: right;\n",
       "    }\n",
       "</style>\n",
       "<table border=\"1\" class=\"dataframe\">\n",
       "  <thead>\n",
       "    <tr style=\"text-align: right;\">\n",
       "      <th></th>\n",
       "      <th>Comunidades y Ciudades Autónomas</th>\n",
       "      <th>Sexo</th>\n",
       "      <th>Edad</th>\n",
       "      <th>Periodo</th>\n",
       "      <th>Total</th>\n",
       "      <th>age</th>\n",
       "      <th>sex</th>\n",
       "      <th>code_ine_ccaa</th>\n",
       "      <th>name_ccaa</th>\n",
       "    </tr>\n",
       "  </thead>\n",
       "  <tbody>\n",
       "    <tr>\n",
       "      <th>170725</th>\n",
       "      <td>11 Extremadura</td>\n",
       "      <td>Hombres</td>\n",
       "      <td>50 años</td>\n",
       "      <td>2014</td>\n",
       "      <td>32.0</td>\n",
       "      <td>50</td>\n",
       "      <td>M</td>\n",
       "      <td>NaN</td>\n",
       "      <td>NaN</td>\n",
       "    </tr>\n",
       "  </tbody>\n",
       "</table>\n",
       "</div>"
      ],
      "text/plain": [
       "       Comunidades y Ciudades Autónomas     Sexo     Edad  Periodo  Total  \\\n",
       "170725                   11 Extremadura  Hombres  50 años     2014   32.0   \n",
       "\n",
       "        age sex code_ine_ccaa name_ccaa  \n",
       "170725   50   M           NaN       NaN  "
      ]
     },
     "execution_count": 10,
     "metadata": {},
     "output_type": "execute_result"
    }
   ],
   "source": [
    "df_raw.sample()"
   ]
  },
  {
   "cell_type": "code",
   "execution_count": 11,
   "id": "e7dbcc42-2212-4284-a628-c32ce96e45ca",
   "metadata": {},
   "outputs": [
    {
     "name": "stdout",
     "output_type": "stream",
     "text": [
      "year                int64\n",
      "age                 int64\n",
      "sex              category\n",
      "deaths            float64\n",
      "code_ine_ccaa      object\n",
      "name_ccaa          object\n",
      "dtype: object\n",
      "   year  age sex  deaths code_ine_ccaa name_ccaa\n",
      "0  2023    0   T   848.0          None      None\n",
      "1  2022    0   T   869.0          None      None\n",
      "2  2021    0   T   861.0          None      None\n",
      "3  2020    0   T   890.0          None      None\n",
      "4  2019    0   T   977.0          None      None\n"
     ]
    }
   ],
   "source": [
    "# El resto: separar en código (2 chars) y nombre\n",
    "rest = df_raw['Comunidades y Ciudades Autónomas'].notna() & \\\n",
    "       (df_raw['Comunidades y Ciudades Autónomas'] != 'Total')\n",
    "\n",
    "codes_names = df_raw.loc[rest, 'Comunidades y Ciudades Autónomas'] \\\n",
    "                   .str.split(pat=' ', n=1, expand=True)\n",
    "\n",
    "df_raw.loc[rest, 'code_ine_ccaa'] = codes_names[0]\n",
    "df_raw.loc[rest, 'name_ccaa']    = codes_names[1]\n",
    "\n",
    "# Renombrar y quedarte sólo con las columnas finales de defunciones\n",
    "df_final = df_raw.rename(columns={\n",
    "    'Periodo':  'year',\n",
    "    'age':   'age',\n",
    "    'sex':   'sex',\n",
    "    'Total': 'deaths'\n",
    "})[['year','age','sex','deaths','code_ine_ccaa','name_ccaa']]\n",
    "\n",
    "# Verificación\n",
    "print(df_final.dtypes)\n",
    "print(df_final.head())"
   ]
  },
  {
   "cell_type": "code",
   "execution_count": 14,
   "id": "02c7aee0-8625-4b8a-9cf9-69fe08f962c7",
   "metadata": {},
   "outputs": [
    {
     "data": {
      "text/html": [
       "<div>\n",
       "<style scoped>\n",
       "    .dataframe tbody tr th:only-of-type {\n",
       "        vertical-align: middle;\n",
       "    }\n",
       "\n",
       "    .dataframe tbody tr th {\n",
       "        vertical-align: top;\n",
       "    }\n",
       "\n",
       "    .dataframe thead th {\n",
       "        text-align: right;\n",
       "    }\n",
       "</style>\n",
       "<table border=\"1\" class=\"dataframe\">\n",
       "  <thead>\n",
       "    <tr style=\"text-align: right;\">\n",
       "      <th></th>\n",
       "      <th>year</th>\n",
       "      <th>age</th>\n",
       "      <th>sex</th>\n",
       "      <th>deaths</th>\n",
       "      <th>code_ine_ccaa</th>\n",
       "      <th>name_ccaa</th>\n",
       "    </tr>\n",
       "  </thead>\n",
       "  <tbody>\n",
       "    <tr>\n",
       "      <th>166966</th>\n",
       "      <td>2000</td>\n",
       "      <td>74</td>\n",
       "      <td>T</td>\n",
       "      <td>282.0</td>\n",
       "      <td>11</td>\n",
       "      <td>Extremadura</td>\n",
       "    </tr>\n",
       "  </tbody>\n",
       "</table>\n",
       "</div>"
      ],
      "text/plain": [
       "        year  age sex  deaths code_ine_ccaa    name_ccaa\n",
       "166966  2000   74   T   282.0            11  Extremadura"
      ]
     },
     "execution_count": 14,
     "metadata": {},
     "output_type": "execute_result"
    }
   ],
   "source": [
    "df_final.sample()"
   ]
  },
  {
   "cell_type": "code",
   "execution_count": 13,
   "id": "9ff16a23-962e-4f4c-8496-1a27c0346dc3",
   "metadata": {},
   "outputs": [],
   "source": [
    "# Configurar conexión\n",
    "usuario = \"jalope\"\n",
    "contrasena = \"admin\"\n",
    "host = \"127.0.0.1\"\n",
    "puerto = \"27250\"\n",
    "\n",
    "uri = f\"mongodb://{quote_plus(usuario)}:{quote_plus(contrasena)}@{host}:{puerto}/?directConnection=true\"\n",
    "client = MongoClient(uri)\n",
    "db = client[\"tfm_db\"]"
   ]
  },
  {
   "cell_type": "code",
   "execution_count": 15,
   "id": "16849fcb-4b2b-4834-bb9c-78fbd01a9e87",
   "metadata": {},
   "outputs": [
    {
     "name": "stdout",
     "output_type": "stream",
     "text": [
      "Registros en la colección:  296940\n",
      "Número de filas de df_raw:  296940\n"
     ]
    }
   ],
   "source": [
    "coll = db['INE_6548_POBLACION_DEFUNCIONES_RAW']\n",
    "coll.drop()\n",
    "coll.insert_many(df_final.to_dict('records'))\n",
    "print(\"Registros en la colección: \", coll.count_documents({}))\n",
    "print(\"Número de filas de df_raw: \", len(df_final))"
   ]
  }
 ],
 "metadata": {
  "kernelspec": {
   "display_name": "Python 3 (ipykernel)",
   "language": "python",
   "name": "python3"
  },
  "language_info": {
   "codemirror_mode": {
    "name": "ipython",
    "version": 3
   },
   "file_extension": ".py",
   "mimetype": "text/x-python",
   "name": "python",
   "nbconvert_exporter": "python",
   "pygments_lexer": "ipython3",
   "version": "3.10.17"
  }
 },
 "nbformat": 4,
 "nbformat_minor": 5
}
