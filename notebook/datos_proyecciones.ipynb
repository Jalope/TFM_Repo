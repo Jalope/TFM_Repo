{
 "cells": [
  {
   "cell_type": "code",
   "execution_count": 39,
   "id": "e64b737c-4eca-43fe-a966-1a7a4fc2fa03",
   "metadata": {},
   "outputs": [],
   "source": [
    "import pandas as pd\n",
    "import os\n",
    "from pymongo import MongoClient\n",
    "from collections import defaultdict\n",
    "from urllib.parse import quote_plus"
   ]
  },
  {
   "cell_type": "code",
   "execution_count": 6,
   "id": "fb7c6373-62bb-47c8-bfca-1c3dcbca7969",
   "metadata": {},
   "outputs": [
    {
     "name": "stdout",
     "output_type": "stream",
     "text": [
      "C:\\Users\\jalop\\Documents\\001-TFM\\tfm-bienvenida\\TFM_Repo\\notebook\n"
     ]
    }
   ],
   "source": [
    "print(os.getcwd())"
   ]
  },
  {
   "cell_type": "code",
   "execution_count": 9,
   "id": "cd9f6dc1-4e7e-4f29-9b4d-fc0861377939",
   "metadata": {},
   "outputs": [
    {
     "name": "stdout",
     "output_type": "stream",
     "text": [
      "['.ipynb_checkpoints', 'catalogo_datos.ipynb', 'datos_poblacion.ipynb', 'diccionario_datos_mongo.xlsx', 'Untitled.ipynb', '~$diccionario_datos_mongo.xlsx']\n"
     ]
    }
   ],
   "source": [
    "print(os.listdir())"
   ]
  },
  {
   "cell_type": "code",
   "execution_count": 22,
   "id": "2cc65945-a85f-433b-90a6-483f816828c2",
   "metadata": {},
   "outputs": [],
   "source": [
    "dtype_map = {\n",
    "    'Periodo':   'int64',     # o 'Int64' si quieres permitir NaN\n",
    "    'Edad':      'string',    # para capturar valores como “Todas las edades”\n",
    "    'Sexo':      'category',\n",
    "    'Escenario': 'category',\n",
    "    'Total':     'int64'      # o 'int64' si no hay nulos\n",
    "}\n",
    "\n",
    "df_raw = pd.read_csv(\n",
    "    '../data/36652.csv',\n",
    "    sep=';',\n",
    "    decimal=',',\n",
    "    encoding='utf-8'\n",
    ")"
   ]
  },
  {
   "cell_type": "code",
   "execution_count": 23,
   "id": "1afb32ea-9ff6-457c-b4ba-94f8be547b31",
   "metadata": {},
   "outputs": [
    {
     "data": {
      "text/html": [
       "<div>\n",
       "<style scoped>\n",
       "    .dataframe tbody tr th:only-of-type {\n",
       "        vertical-align: middle;\n",
       "    }\n",
       "\n",
       "    .dataframe tbody tr th {\n",
       "        vertical-align: top;\n",
       "    }\n",
       "\n",
       "    .dataframe thead th {\n",
       "        text-align: right;\n",
       "    }\n",
       "</style>\n",
       "<table border=\"1\" class=\"dataframe\">\n",
       "  <thead>\n",
       "    <tr style=\"text-align: right;\">\n",
       "      <th></th>\n",
       "      <th>Escenario</th>\n",
       "      <th>Sexo</th>\n",
       "      <th>Edad</th>\n",
       "      <th>Periodo</th>\n",
       "      <th>Total</th>\n",
       "    </tr>\n",
       "  </thead>\n",
       "  <tbody>\n",
       "    <tr>\n",
       "      <th>11986</th>\n",
       "      <td>Central</td>\n",
       "      <td>Mujeres</td>\n",
       "      <td>30</td>\n",
       "      <td>2073</td>\n",
       "      <td>301440.89</td>\n",
       "    </tr>\n",
       "  </tbody>\n",
       "</table>\n",
       "</div>"
      ],
      "text/plain": [
       "      Escenario     Sexo Edad  Periodo      Total\n",
       "11986   Central  Mujeres   30     2073  301440.89"
      ]
     },
     "execution_count": 23,
     "metadata": {},
     "output_type": "execute_result"
    }
   ],
   "source": [
    "df_raw.sample()"
   ]
  },
  {
   "cell_type": "code",
   "execution_count": 24,
   "id": "83f132f6-5652-4729-a088-f571dd51ea8a",
   "metadata": {},
   "outputs": [
    {
     "name": "stdout",
     "output_type": "stream",
     "text": [
      "Escenario     object\n",
      "Sexo          object\n",
      "Edad          object\n",
      "Periodo        int64\n",
      "Total        float64\n",
      "dtype: object\n"
     ]
    }
   ],
   "source": [
    "print(df_raw.dtypes)"
   ]
  },
  {
   "cell_type": "code",
   "execution_count": 25,
   "id": "4d83c747-7876-4f4e-a650-0d763b5b1d8f",
   "metadata": {},
   "outputs": [],
   "source": [
    "# Quitamos el agregado de “Todas las edades”\n",
    "df_raw = df_raw[df_raw['Edad'] != 'Todas las edades'].copy()\n",
    "\n",
    "# Convertir Edad a entero\n",
    "df_raw['Edad'] = df_raw['Edad'].astype(int)"
   ]
  },
  {
   "cell_type": "code",
   "execution_count": 26,
   "id": "e96cb35b-808d-488b-a600-c36ca96fb860",
   "metadata": {},
   "outputs": [
    {
     "name": "stdout",
     "output_type": "stream",
     "text": [
      "Escenario     object\n",
      "Sexo          object\n",
      "Edad           int64\n",
      "Periodo        int64\n",
      "Total        float64\n",
      "dtype: object\n"
     ]
    }
   ],
   "source": [
    "print(df_raw.dtypes)"
   ]
  },
  {
   "cell_type": "code",
   "execution_count": 27,
   "id": "6169fa0f-7025-4dce-a4c3-3d7ba4f543c0",
   "metadata": {},
   "outputs": [
    {
     "data": {
      "text/html": [
       "<div>\n",
       "<style scoped>\n",
       "    .dataframe tbody tr th:only-of-type {\n",
       "        vertical-align: middle;\n",
       "    }\n",
       "\n",
       "    .dataframe tbody tr th {\n",
       "        vertical-align: top;\n",
       "    }\n",
       "\n",
       "    .dataframe thead th {\n",
       "        text-align: right;\n",
       "    }\n",
       "</style>\n",
       "<table border=\"1\" class=\"dataframe\">\n",
       "  <thead>\n",
       "    <tr style=\"text-align: right;\">\n",
       "      <th></th>\n",
       "      <th>Escenario</th>\n",
       "      <th>Sexo</th>\n",
       "      <th>Edad</th>\n",
       "      <th>Periodo</th>\n",
       "      <th>Total</th>\n",
       "    </tr>\n",
       "  </thead>\n",
       "  <tbody>\n",
       "    <tr>\n",
       "      <th>69870</th>\n",
       "      <td>Saldo migratorio bajo</td>\n",
       "      <td>Hombres</td>\n",
       "      <td>43</td>\n",
       "      <td>2074</td>\n",
       "      <td>301338.41</td>\n",
       "    </tr>\n",
       "  </tbody>\n",
       "</table>\n",
       "</div>"
      ],
      "text/plain": [
       "                   Escenario     Sexo  Edad  Periodo      Total\n",
       "69870  Saldo migratorio bajo  Hombres    43     2074  301338.41"
      ]
     },
     "execution_count": 27,
     "metadata": {},
     "output_type": "execute_result"
    }
   ],
   "source": [
    "df_raw.sample()"
   ]
  },
  {
   "cell_type": "code",
   "execution_count": 28,
   "id": "ff73010e-1647-41b3-8706-7629594a81d5",
   "metadata": {},
   "outputs": [
    {
     "data": {
      "text/plain": [
       "array([  0,   1,   2,   3,   4,   5,   6,   7,   8,   9,  10,  11,  12,\n",
       "        13,  14,  15,  16,  17,  18,  19,  20,  21,  22,  23,  24,  25,\n",
       "        26,  27,  28,  29,  30,  31,  32,  33,  34,  35,  36,  37,  38,\n",
       "        39,  40,  41,  42,  43,  44,  45,  46,  47,  48,  49,  50,  51,\n",
       "        52,  53,  54,  55,  56,  57,  58,  59,  60,  61,  62,  63,  64,\n",
       "        65,  66,  67,  68,  69,  70,  71,  72,  73,  74,  75,  76,  77,\n",
       "        78,  79,  80,  81,  82,  83,  84,  85,  86,  87,  88,  89,  90,\n",
       "        91,  92,  93,  94,  95,  96,  97,  98,  99, 100])"
      ]
     },
     "execution_count": 28,
     "metadata": {},
     "output_type": "execute_result"
    }
   ],
   "source": [
    "df_raw['Edad'].unique()"
   ]
  },
  {
   "cell_type": "code",
   "execution_count": 29,
   "id": "fff83029-a006-424b-b464-0a24bc7b8af7",
   "metadata": {},
   "outputs": [
    {
     "data": {
      "text/plain": [
       "array(['Central', 'Fecundidad alta', 'Fecundidad baja',\n",
       "       'Saldo migratorio alto', 'Saldo migratorio bajo',\n",
       "       'Fecundidad y saldo migratorio altos',\n",
       "       'Fecundidad y saldo migratorio bajos', 'Saldo migratorio nulo'],\n",
       "      dtype=object)"
      ]
     },
     "execution_count": 29,
     "metadata": {},
     "output_type": "execute_result"
    }
   ],
   "source": [
    "df_raw['Escenario'].unique()"
   ]
  },
  {
   "cell_type": "code",
   "execution_count": 30,
   "id": "21eba9bc-c752-44bc-96c7-22b5afbfa1ad",
   "metadata": {},
   "outputs": [
    {
     "data": {
      "text/plain": [
       "array([2074, 2073, 2072, 2071, 2070, 2069, 2068, 2067, 2066, 2065, 2064,\n",
       "       2063, 2062, 2061, 2060, 2059, 2058, 2057, 2056, 2055, 2054, 2053,\n",
       "       2052, 2051, 2050, 2049, 2048, 2047, 2046, 2045, 2044, 2043, 2042,\n",
       "       2041, 2040, 2039, 2038, 2037, 2036, 2035, 2034, 2033, 2032, 2031,\n",
       "       2030, 2029, 2028, 2027, 2026, 2025, 2024])"
      ]
     },
     "execution_count": 30,
     "metadata": {},
     "output_type": "execute_result"
    }
   ],
   "source": [
    "df_raw['Periodo'].unique()"
   ]
  },
  {
   "cell_type": "code",
   "execution_count": 32,
   "id": "21c8fca6-644a-4eaa-84a1-e8c70aff7297",
   "metadata": {},
   "outputs": [
    {
     "data": {
      "text/plain": [
       "array(['Total', 'Hombres', 'Mujeres'], dtype=object)"
      ]
     },
     "execution_count": 32,
     "metadata": {},
     "output_type": "execute_result"
    }
   ],
   "source": [
    "df_raw['Sexo'].unique()"
   ]
  },
  {
   "cell_type": "code",
   "execution_count": 34,
   "id": "c59e1966-b437-40f3-861a-1ff94b626509",
   "metadata": {},
   "outputs": [],
   "source": [
    "df_raw = df_raw.rename(columns={\n",
    "    'Periodo': 'year',\n",
    "    'Edad': 'age',\n",
    "    'Sexo': 'sex',\n",
    "    'Escenario': 'scenario',\n",
    "    'Total': 'population'\n",
    "})"
   ]
  },
  {
   "cell_type": "code",
   "execution_count": 35,
   "id": "f05625a6-cea2-47ee-9277-0da2cbca3832",
   "metadata": {},
   "outputs": [
    {
     "data": {
      "text/html": [
       "<div>\n",
       "<style scoped>\n",
       "    .dataframe tbody tr th:only-of-type {\n",
       "        vertical-align: middle;\n",
       "    }\n",
       "\n",
       "    .dataframe tbody tr th {\n",
       "        vertical-align: top;\n",
       "    }\n",
       "\n",
       "    .dataframe thead th {\n",
       "        text-align: right;\n",
       "    }\n",
       "</style>\n",
       "<table border=\"1\" class=\"dataframe\">\n",
       "  <thead>\n",
       "    <tr style=\"text-align: right;\">\n",
       "      <th></th>\n",
       "      <th>scenario</th>\n",
       "      <th>sex</th>\n",
       "      <th>age</th>\n",
       "      <th>year</th>\n",
       "      <th>population</th>\n",
       "    </tr>\n",
       "  </thead>\n",
       "  <tbody>\n",
       "    <tr>\n",
       "      <th>16892</th>\n",
       "      <td>Fecundidad alta</td>\n",
       "      <td>Total</td>\n",
       "      <td>24</td>\n",
       "      <td>2063</td>\n",
       "      <td>640018.96</td>\n",
       "    </tr>\n",
       "  </tbody>\n",
       "</table>\n",
       "</div>"
      ],
      "text/plain": [
       "              scenario    sex  age  year  population\n",
       "16892  Fecundidad alta  Total   24  2063   640018.96"
      ]
     },
     "execution_count": 35,
     "metadata": {},
     "output_type": "execute_result"
    }
   ],
   "source": [
    "df_raw.sample()"
   ]
  },
  {
   "cell_type": "code",
   "execution_count": 36,
   "id": "e976d0e4-e099-4aee-81a4-d41ae8095b45",
   "metadata": {},
   "outputs": [],
   "source": [
    "sex_map = {\n",
    "    'Total':   'T',   \n",
    "    'Hombres': 'M',   \n",
    "    'Mujeres': 'F'   \n",
    "}\n",
    "\n",
    "df_raw['sex'] = df_raw['sex'].map(sex_map).astype('category')"
   ]
  },
  {
   "cell_type": "code",
   "execution_count": 37,
   "id": "158ef05a-89b4-4bb2-97d0-9ba45db1ad35",
   "metadata": {
    "scrolled": true
   },
   "outputs": [
    {
     "data": {
      "text/html": [
       "<div>\n",
       "<style scoped>\n",
       "    .dataframe tbody tr th:only-of-type {\n",
       "        vertical-align: middle;\n",
       "    }\n",
       "\n",
       "    .dataframe tbody tr th {\n",
       "        vertical-align: top;\n",
       "    }\n",
       "\n",
       "    .dataframe thead th {\n",
       "        text-align: right;\n",
       "    }\n",
       "</style>\n",
       "<table border=\"1\" class=\"dataframe\">\n",
       "  <thead>\n",
       "    <tr style=\"text-align: right;\">\n",
       "      <th></th>\n",
       "      <th>scenario</th>\n",
       "      <th>sex</th>\n",
       "      <th>age</th>\n",
       "      <th>year</th>\n",
       "      <th>population</th>\n",
       "    </tr>\n",
       "  </thead>\n",
       "  <tbody>\n",
       "    <tr>\n",
       "      <th>55058</th>\n",
       "      <td>Saldo migratorio alto</td>\n",
       "      <td>M</td>\n",
       "      <td>58</td>\n",
       "      <td>2045</td>\n",
       "      <td>352005.26</td>\n",
       "    </tr>\n",
       "  </tbody>\n",
       "</table>\n",
       "</div>"
      ],
      "text/plain": [
       "                    scenario sex  age  year  population\n",
       "55058  Saldo migratorio alto   M   58  2045   352005.26"
      ]
     },
     "execution_count": 37,
     "metadata": {},
     "output_type": "execute_result"
    }
   ],
   "source": [
    "df_raw.sample()"
   ]
  },
  {
   "cell_type": "code",
   "execution_count": 40,
   "id": "8f84e55c-094f-42c5-96e1-b6c1fa50f274",
   "metadata": {},
   "outputs": [],
   "source": [
    "# Configurar conexión\n",
    "usuario = \"jalope\"\n",
    "contrasena = \"admin\"\n",
    "host = \"127.0.0.1\"\n",
    "puerto = \"27250\"\n",
    "\n",
    "uri = f\"mongodb://{quote_plus(usuario)}:{quote_plus(contrasena)}@{host}:{puerto}/?directConnection=true\"\n",
    "client = MongoClient(uri)\n",
    "db = client[\"tfm_db\"]"
   ]
  },
  {
   "cell_type": "code",
   "execution_count": 42,
   "id": "ca73b47a-d152-43b9-b78f-a8d463e112ee",
   "metadata": {},
   "outputs": [
    {
     "name": "stdout",
     "output_type": "stream",
     "text": [
      "Registros en la colección:  123624\n",
      "Número de filas de df_raw:  123624\n"
     ]
    }
   ],
   "source": [
    "coll = db['INE_36652_POBLACION_PROJ_RAW']\n",
    "coll.drop()\n",
    "coll.insert_many(df_raw.to_dict('records'))\n",
    "print(\"Registros en la colección: \", coll.count_documents({}))\n",
    "print(\"Número de filas de df_raw: \", len(df_raw))"
   ]
  }
 ],
 "metadata": {
  "kernelspec": {
   "display_name": "Python 3 (ipykernel)",
   "language": "python",
   "name": "python3"
  },
  "language_info": {
   "codemirror_mode": {
    "name": "ipython",
    "version": 3
   },
   "file_extension": ".py",
   "mimetype": "text/x-python",
   "name": "python",
   "nbconvert_exporter": "python",
   "pygments_lexer": "ipython3",
   "version": "3.10.17"
  }
 },
 "nbformat": 4,
 "nbformat_minor": 5
}
