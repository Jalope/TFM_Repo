{
 "cells": [
  {
   "cell_type": "code",
   "execution_count": 1,
   "id": "2596c49b-c27e-4302-b057-872a32729972",
   "metadata": {},
   "outputs": [
    {
     "name": "stdout",
     "output_type": "stream",
     "text": [
      "Collecting pymongo\n",
      "  Downloading pymongo-4.13.0-cp310-cp310-win_amd64.whl.metadata (22 kB)\n",
      "Requirement already satisfied: pandas in d:\\archivos_de_programas\\envs\\personal_python\\lib\\site-packages (2.2.3)\n",
      "Requirement already satisfied: openpyxl in d:\\archivos_de_programas\\envs\\personal_python\\lib\\site-packages (3.1.5)\n",
      "Collecting dnspython<3.0.0,>=1.16.0 (from pymongo)\n",
      "  Using cached dnspython-2.7.0-py3-none-any.whl.metadata (5.8 kB)\n",
      "Requirement already satisfied: numpy>=1.22.4 in d:\\archivos_de_programas\\envs\\personal_python\\lib\\site-packages (from pandas) (2.2.0)\n",
      "Requirement already satisfied: python-dateutil>=2.8.2 in d:\\archivos_de_programas\\envs\\personal_python\\lib\\site-packages (from pandas) (2.9.0.post0)\n",
      "Requirement already satisfied: pytz>=2020.1 in d:\\archivos_de_programas\\envs\\personal_python\\lib\\site-packages (from pandas) (2024.1)\n",
      "Requirement already satisfied: tzdata>=2022.7 in d:\\archivos_de_programas\\envs\\personal_python\\lib\\site-packages (from pandas) (2024.2)\n",
      "Requirement already satisfied: et-xmlfile in d:\\archivos_de_programas\\envs\\personal_python\\lib\\site-packages (from openpyxl) (2.0.0)\n",
      "Requirement already satisfied: six>=1.5 in d:\\archivos_de_programas\\envs\\personal_python\\lib\\site-packages (from python-dateutil>=2.8.2->pandas) (1.16.0)\n",
      "Downloading pymongo-4.13.0-cp310-cp310-win_amd64.whl (797 kB)\n",
      "   ---------------------------------------- 0.0/797.9 kB ? eta -:--:--\n",
      "   --------------------------------------- 797.9/797.9 kB 17.3 MB/s eta 0:00:00\n",
      "Using cached dnspython-2.7.0-py3-none-any.whl (313 kB)\n",
      "Installing collected packages: dnspython, pymongo\n",
      "Successfully installed dnspython-2.7.0 pymongo-4.13.0\n",
      "Note: you may need to restart the kernel to use updated packages.\n"
     ]
    }
   ],
   "source": [
    "pip install pymongo pandas openpyxl"
   ]
  },
  {
   "cell_type": "code",
   "execution_count": 4,
   "id": "4649e67b-2d70-4c09-9db9-24e55a24894f",
   "metadata": {},
   "outputs": [],
   "source": [
    "import pandas as pd\n",
    "from pymongo import MongoClient\n",
    "from collections import defaultdict\n",
    "import openpyxl\n",
    "from urllib.parse import quote_plus"
   ]
  },
  {
   "cell_type": "code",
   "execution_count": 5,
   "id": "119785ec-b851-48c7-8b64-a259a0ea824b",
   "metadata": {},
   "outputs": [],
   "source": [
    "# Configura tu conexión\n",
    "\n",
    "usuario = \"jalope\"\n",
    "contrasena = \"admin\"\n",
    "host = \"127.0.0.1\"\n",
    "puerto = \"27250\"\n",
    "\n",
    "uri = f\"mongodb://{quote_plus(usuario)}:{quote_plus(contrasena)}@{host}:{puerto}/?directConnection=true\"\n",
    "client = MongoClient(uri)\n",
    "db = client[\"tfm_db\"]\n",
    "n_docs = 1000"
   ]
  },
  {
   "cell_type": "code",
   "execution_count": 6,
   "id": "00ff1fc6-aa70-4a4a-abe1-3c839ce4db5c",
   "metadata": {},
   "outputs": [
    {
     "name": "stdout",
     "output_type": "stream",
     "text": [
      "['INE_31304_POBLACION_RAW', 'pop_observed_raw', 'pop_projected_raw', 'pop_projections_nuts', 'pop_defunciones_raw', 'pop_nacimientos_raw']\n"
     ]
    }
   ],
   "source": [
    "print(db.list_collection_names())"
   ]
  },
  {
   "cell_type": "code",
   "execution_count": 7,
   "id": "683394a1-a98f-4d60-a592-04f35530d23f",
   "metadata": {},
   "outputs": [],
   "source": [
    "# Inferir tipo de dato\n",
    "def tipo_dato(v):\n",
    "    if v is None:                   return \"None\"\n",
    "    if isinstance(v, bool):         return \"Boolean\"\n",
    "    if isinstance(v, int):          return \"Integer\"\n",
    "    if isinstance(v, float):        return \"Float\"\n",
    "    if isinstance(v, str):          return \"String\"\n",
    "    if isinstance(v, list):         return \"List\"\n",
    "    if isinstance(v, dict):         return \"Object\"\n",
    "    if \"ObjectId\" in str(type(v)):  return \"ObjectId\"\n",
    "    return type(v).__name__"
   ]
  },
  {
   "cell_type": "code",
   "execution_count": 8,
   "id": "59ec7c6a-7047-4c7a-a91f-3629649f7933",
   "metadata": {},
   "outputs": [],
   "source": [
    "# Recorremos colecciones y construir un DataFrames\n",
    "resumen = {}\n",
    "for col in db.list_collection_names():\n",
    "    campos = defaultdict(list)\n",
    "    for doc in db[col].find().limit(n_docs):\n",
    "        for k, v in doc.items():\n",
    "            campos[k].append(v)\n",
    "\n",
    "    filas = []\n",
    "    for k, vals in campos.items():\n",
    "        ejemplos = list({str(x) for x in vals if x is not None})[:3]\n",
    "        filas.append({\n",
    "            \"Campo\":           k,\n",
    "            \"Tipo de Dato\":    tipo_dato(vals[0]),\n",
    "            \"Requerido\":       \"\",                     \n",
    "            \"Valores Ejemplo\": \", \".join(ejemplos),\n",
    "            \"Descripción\":     \"\"                      \n",
    "        })\n",
    "    resumen[col] = pd.DataFrame(filas)"
   ]
  },
  {
   "cell_type": "code",
   "execution_count": 11,
   "id": "59bb8b04-fc4a-402f-9a4e-1069c076409e",
   "metadata": {},
   "outputs": [],
   "source": [
    "# Exportar a un Excel con una hoja por colección\n",
    "with pd.ExcelWriter(\"diccionario_datos_mongo.xlsx\", engine=\"openpyxl\") as writer:\n",
    "    for nombre, df in resumen.items():\n",
    "        sheet = nombre[:31]   # límite de 31 chars en nombres de hoja\n",
    "        df.to_excel(writer, sheet_name=sheet, index=False)"
   ]
  }
 ],
 "metadata": {
  "kernelspec": {
   "display_name": "Python 3 (ipykernel)",
   "language": "python",
   "name": "python3"
  },
  "language_info": {
   "codemirror_mode": {
    "name": "ipython",
    "version": 3
   },
   "file_extension": ".py",
   "mimetype": "text/x-python",
   "name": "python",
   "nbconvert_exporter": "python",
   "pygments_lexer": "ipython3",
   "version": "3.10.17"
  }
 },
 "nbformat": 4,
 "nbformat_minor": 5
}
